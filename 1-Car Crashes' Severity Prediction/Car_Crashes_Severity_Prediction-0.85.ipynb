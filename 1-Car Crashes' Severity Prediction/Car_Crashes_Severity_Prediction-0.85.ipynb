{
 "cells": [
  {
   "cell_type": "code",
   "execution_count": 1,
   "id": "feed3c1e",
   "metadata": {
    "execution": {
     "iopub.execute_input": "2021-07-27T16:46:10.703113Z",
     "iopub.status.busy": "2021-07-27T16:46:10.701350Z",
     "iopub.status.idle": "2021-07-27T16:46:13.819378Z",
     "shell.execute_reply": "2021-07-27T16:46:13.818565Z",
     "shell.execute_reply.started": "2021-07-27T16:45:38.534414Z"
    },
    "papermill": {
     "duration": 3.169136,
     "end_time": "2021-07-27T16:46:13.819558",
     "exception": false,
     "start_time": "2021-07-27T16:46:10.650422",
     "status": "completed"
    },
    "tags": []
   },
   "outputs": [],
   "source": [
    "import pandas as pd\n",
    "import pandas_profiling as pp\n",
    "import numpy as np\n",
    "import re\n",
    "from sklearn.preprocessing import LabelBinarizer\n",
    "from sklearn.impute import KNNImputer\n",
    "import os\n",
    "#pip install pandas-profiling"
   ]
  },
  {
   "cell_type": "code",
   "execution_count": 2,
   "id": "d0bbf93e",
   "metadata": {
    "execution": {
     "iopub.execute_input": "2021-07-27T16:46:13.916390Z",
     "iopub.status.busy": "2021-07-27T16:46:13.915652Z",
     "iopub.status.idle": "2021-07-27T16:46:14.000093Z",
     "shell.execute_reply": "2021-07-27T16:46:14.000621Z",
     "shell.execute_reply.started": "2021-07-27T16:45:38.558054Z"
    },
    "papermill": {
     "duration": 0.135894,
     "end_time": "2021-07-27T16:46:14.000809",
     "exception": false,
     "start_time": "2021-07-27T16:46:13.864915",
     "status": "completed"
    },
    "tags": []
   },
   "outputs": [
    {
     "name": "stdout",
     "output_type": "stream",
     "text": [
      "The shape of the dataset is (6407, 16).\n",
      "\n",
      "\n"
     ]
    },
    {
     "data": {
      "text/html": [
       "<div>\n",
       "<style scoped>\n",
       "    .dataframe tbody tr th:only-of-type {\n",
       "        vertical-align: middle;\n",
       "    }\n",
       "\n",
       "    .dataframe tbody tr th {\n",
       "        vertical-align: top;\n",
       "    }\n",
       "\n",
       "    .dataframe thead th {\n",
       "        text-align: right;\n",
       "    }\n",
       "</style>\n",
       "<table border=\"1\" class=\"dataframe\">\n",
       "  <thead>\n",
       "    <tr style=\"text-align: right;\">\n",
       "      <th></th>\n",
       "      <th>ID</th>\n",
       "      <th>Lat</th>\n",
       "      <th>Lng</th>\n",
       "      <th>Bump</th>\n",
       "      <th>Distance(mi)</th>\n",
       "      <th>Crossing</th>\n",
       "      <th>Give_Way</th>\n",
       "      <th>Junction</th>\n",
       "      <th>No_Exit</th>\n",
       "      <th>Railway</th>\n",
       "      <th>Roundabout</th>\n",
       "      <th>Stop</th>\n",
       "      <th>Amenity</th>\n",
       "      <th>Side</th>\n",
       "      <th>Severity</th>\n",
       "      <th>timestamp</th>\n",
       "    </tr>\n",
       "  </thead>\n",
       "  <tbody>\n",
       "    <tr>\n",
       "      <th>0</th>\n",
       "      <td>0</td>\n",
       "      <td>37.762150</td>\n",
       "      <td>-122.405660</td>\n",
       "      <td>False</td>\n",
       "      <td>0.044</td>\n",
       "      <td>False</td>\n",
       "      <td>False</td>\n",
       "      <td>False</td>\n",
       "      <td>False</td>\n",
       "      <td>False</td>\n",
       "      <td>False</td>\n",
       "      <td>False</td>\n",
       "      <td>True</td>\n",
       "      <td>R</td>\n",
       "      <td>2</td>\n",
       "      <td>2016-03-25 15:13:02</td>\n",
       "    </tr>\n",
       "    <tr>\n",
       "      <th>1</th>\n",
       "      <td>1</td>\n",
       "      <td>37.719157</td>\n",
       "      <td>-122.448254</td>\n",
       "      <td>False</td>\n",
       "      <td>0.000</td>\n",
       "      <td>False</td>\n",
       "      <td>False</td>\n",
       "      <td>False</td>\n",
       "      <td>False</td>\n",
       "      <td>False</td>\n",
       "      <td>False</td>\n",
       "      <td>False</td>\n",
       "      <td>False</td>\n",
       "      <td>R</td>\n",
       "      <td>2</td>\n",
       "      <td>2020-05-05 19:23:00</td>\n",
       "    </tr>\n",
       "    <tr>\n",
       "      <th>2</th>\n",
       "      <td>2</td>\n",
       "      <td>37.808498</td>\n",
       "      <td>-122.366852</td>\n",
       "      <td>False</td>\n",
       "      <td>0.000</td>\n",
       "      <td>False</td>\n",
       "      <td>False</td>\n",
       "      <td>False</td>\n",
       "      <td>False</td>\n",
       "      <td>False</td>\n",
       "      <td>False</td>\n",
       "      <td>True</td>\n",
       "      <td>False</td>\n",
       "      <td>R</td>\n",
       "      <td>3</td>\n",
       "      <td>2016-09-16 19:57:16</td>\n",
       "    </tr>\n",
       "    <tr>\n",
       "      <th>3</th>\n",
       "      <td>3</td>\n",
       "      <td>37.785930</td>\n",
       "      <td>-122.391080</td>\n",
       "      <td>False</td>\n",
       "      <td>0.009</td>\n",
       "      <td>False</td>\n",
       "      <td>False</td>\n",
       "      <td>True</td>\n",
       "      <td>False</td>\n",
       "      <td>False</td>\n",
       "      <td>False</td>\n",
       "      <td>False</td>\n",
       "      <td>False</td>\n",
       "      <td>R</td>\n",
       "      <td>1</td>\n",
       "      <td>2020-03-29 19:48:43</td>\n",
       "    </tr>\n",
       "    <tr>\n",
       "      <th>4</th>\n",
       "      <td>4</td>\n",
       "      <td>37.719141</td>\n",
       "      <td>-122.448457</td>\n",
       "      <td>False</td>\n",
       "      <td>0.000</td>\n",
       "      <td>False</td>\n",
       "      <td>False</td>\n",
       "      <td>False</td>\n",
       "      <td>False</td>\n",
       "      <td>False</td>\n",
       "      <td>False</td>\n",
       "      <td>False</td>\n",
       "      <td>False</td>\n",
       "      <td>R</td>\n",
       "      <td>2</td>\n",
       "      <td>2019-10-09 08:47:00</td>\n",
       "    </tr>\n",
       "  </tbody>\n",
       "</table>\n",
       "</div>"
      ],
      "text/plain": [
       "   ID        Lat         Lng   Bump  Distance(mi)  Crossing  Give_Way  \\\n",
       "0   0  37.762150 -122.405660  False         0.044     False     False   \n",
       "1   1  37.719157 -122.448254  False         0.000     False     False   \n",
       "2   2  37.808498 -122.366852  False         0.000     False     False   \n",
       "3   3  37.785930 -122.391080  False         0.009     False     False   \n",
       "4   4  37.719141 -122.448457  False         0.000     False     False   \n",
       "\n",
       "   Junction  No_Exit  Railway  Roundabout   Stop  Amenity Side  Severity  \\\n",
       "0     False    False    False       False  False     True    R         2   \n",
       "1     False    False    False       False  False    False    R         2   \n",
       "2     False    False    False       False   True    False    R         3   \n",
       "3      True    False    False       False  False    False    R         1   \n",
       "4     False    False    False       False  False    False    R         2   \n",
       "\n",
       "             timestamp  \n",
       "0  2016-03-25 15:13:02  \n",
       "1  2020-05-05 19:23:00  \n",
       "2  2016-09-16 19:57:16  \n",
       "3  2020-03-29 19:48:43  \n",
       "4  2019-10-09 08:47:00  "
      ]
     },
     "execution_count": 2,
     "metadata": {},
     "output_type": "execute_result"
    }
   ],
   "source": [
    "dataset_path = '/kaggle/input/car-crashes-severity-prediction/'\n",
    "df = pd.read_csv(os.path.join(dataset_path, 'train.csv'))\n",
    "print(\"The shape of the dataset is {}.\\n\\n\".format(df.shape))\n",
    "\n",
    "df.head()"
   ]
  },
  {
   "cell_type": "code",
   "execution_count": 3,
   "id": "837d77d6",
   "metadata": {
    "execution": {
     "iopub.execute_input": "2021-07-27T16:46:14.106017Z",
     "iopub.status.busy": "2021-07-27T16:46:14.105273Z",
     "iopub.status.idle": "2021-07-27T16:46:14.108595Z",
     "shell.execute_reply": "2021-07-27T16:46:14.108022Z",
     "shell.execute_reply.started": "2021-07-27T16:45:38.602106Z"
    },
    "papermill": {
     "duration": 0.061503,
     "end_time": "2021-07-27T16:46:14.108751",
     "exception": false,
     "start_time": "2021-07-27T16:46:14.047248",
     "status": "completed"
    },
    "tags": []
   },
   "outputs": [],
   "source": [
    "import xml.etree.ElementTree as ET\n",
    "def xml_To_df(xml_path):\n",
    "\n",
    "    xml_data = open(xml_path, 'r').read()  # Read file\n",
    "    root = ET.XML(xml_data)  # Parse XML\n",
    "    \n",
    "    data = []\n",
    "    cols = []\n",
    "    for i, child in enumerate(root):\n",
    "        data.append([subchild.text for subchild in child])\n",
    "        cols.append(child.tag)\n",
    "    \n",
    "    Holidaydf = pd.DataFrame(data).T  # Write in DF and transpose it\n",
    "    Holidaydf.columns = cols  # Update column names\n",
    "    Holidaydf=Holidaydf.T\n",
    "    Holidaydf=Holidaydf.reset_index()\n",
    "    Holidaydf.drop(columns='index',inplace=True)\n",
    "    Holidaydf.rename(columns = {0:'justDate',1:'HolidayName'}, inplace = True)\n",
    "    Holidaydf= Holidaydf.drop(columns= ['HolidayName'])\n",
    "    Holidaydf['justDate']= pd.to_datetime(Holidaydf['justDate'])\n",
    "    return Holidaydf"
   ]
  },
  {
   "cell_type": "markdown",
   "id": "1cbc9c5b",
   "metadata": {
    "papermill": {
     "duration": 0.04536,
     "end_time": "2021-07-27T16:46:14.200357",
     "exception": false,
     "start_time": "2021-07-27T16:46:14.154997",
     "status": "completed"
    },
    "tags": []
   },
   "source": [
    "## Initial profiling of the whole dataset"
   ]
  },
  {
   "cell_type": "code",
   "execution_count": 4,
   "id": "b670dcf0",
   "metadata": {
    "execution": {
     "iopub.execute_input": "2021-07-27T16:46:14.297714Z",
     "iopub.status.busy": "2021-07-27T16:46:14.296690Z",
     "iopub.status.idle": "2021-07-27T16:46:14.300874Z",
     "shell.execute_reply": "2021-07-27T16:46:14.301441Z",
     "shell.execute_reply.started": "2021-07-27T16:45:38.612112Z"
    },
    "papermill": {
     "duration": 0.054283,
     "end_time": "2021-07-27T16:46:14.301636",
     "exception": false,
     "start_time": "2021-07-27T16:46:14.247353",
     "status": "completed"
    },
    "tags": []
   },
   "outputs": [],
   "source": [
    "# pp.ProfileReport(df)"
   ]
  },
  {
   "cell_type": "markdown",
   "id": "80547021",
   "metadata": {
    "papermill": {
     "duration": 0.045458,
     "end_time": "2021-07-27T16:46:14.392487",
     "exception": false,
     "start_time": "2021-07-27T16:46:14.347029",
     "status": "completed"
    },
    "tags": []
   },
   "source": [
    "## Dropping the ID, Bump and Roundabout based on the initial profiling"
   ]
  },
  {
   "cell_type": "code",
   "execution_count": 5,
   "id": "9632c6ed",
   "metadata": {
    "execution": {
     "iopub.execute_input": "2021-07-27T16:46:14.488264Z",
     "iopub.status.busy": "2021-07-27T16:46:14.487144Z",
     "iopub.status.idle": "2021-07-27T16:46:14.490964Z",
     "shell.execute_reply": "2021-07-27T16:46:14.491505Z",
     "shell.execute_reply.started": "2021-07-27T16:45:38.626200Z"
    },
    "papermill": {
     "duration": 0.053354,
     "end_time": "2021-07-27T16:46:14.491702",
     "exception": false,
     "start_time": "2021-07-27T16:46:14.438348",
     "status": "completed"
    },
    "tags": []
   },
   "outputs": [],
   "source": [
    "# df2 = df.drop(columns=['ID','Bump','Roundabout'])"
   ]
  },
  {
   "cell_type": "code",
   "execution_count": 6,
   "id": "b634bbde",
   "metadata": {
    "execution": {
     "iopub.execute_input": "2021-07-27T16:46:14.586832Z",
     "iopub.status.busy": "2021-07-27T16:46:14.585815Z",
     "iopub.status.idle": "2021-07-27T16:46:14.589421Z",
     "shell.execute_reply": "2021-07-27T16:46:14.589917Z",
     "shell.execute_reply.started": "2021-07-27T16:45:38.639642Z"
    },
    "papermill": {
     "duration": 0.05302,
     "end_time": "2021-07-27T16:46:14.590104",
     "exception": false,
     "start_time": "2021-07-27T16:46:14.537084",
     "status": "completed"
    },
    "tags": []
   },
   "outputs": [],
   "source": [
    "# pp.ProfileReport(df2)"
   ]
  },
  {
   "cell_type": "markdown",
   "id": "4728d034",
   "metadata": {
    "papermill": {
     "duration": 0.045181,
     "end_time": "2021-07-27T16:46:14.681352",
     "exception": false,
     "start_time": "2021-07-27T16:46:14.636171",
     "status": "completed"
    },
    "tags": []
   },
   "source": [
    "## Checking significange of each of the categorical features in predicting sevirity:"
   ]
  },
  {
   "cell_type": "code",
   "execution_count": 7,
   "id": "aae7ceca",
   "metadata": {
    "execution": {
     "iopub.execute_input": "2021-07-27T16:46:14.777937Z",
     "iopub.status.busy": "2021-07-27T16:46:14.776813Z",
     "iopub.status.idle": "2021-07-27T16:46:14.780863Z",
     "shell.execute_reply": "2021-07-27T16:46:14.781412Z",
     "shell.execute_reply.started": "2021-07-27T16:45:38.653513Z"
    },
    "papermill": {
     "duration": 0.055039,
     "end_time": "2021-07-27T16:46:14.781610",
     "exception": false,
     "start_time": "2021-07-27T16:46:14.726571",
     "status": "completed"
    },
    "tags": []
   },
   "outputs": [],
   "source": [
    "# categorical_cols= ['Crossing', 'Give_Way', 'Junction', 'No_Exit', 'Railway', 'Stop',\n",
    "#                    'Amenity', 'Side']\n",
    "# for c in categorical_cols:\n",
    "#     print(c, df2[c].value_counts(), \"\\n\")"
   ]
  },
  {
   "cell_type": "markdown",
   "id": "b63d2b29",
   "metadata": {
    "papermill": {
     "duration": 0.045378,
     "end_time": "2021-07-27T16:46:14.873109",
     "exception": false,
     "start_time": "2021-07-27T16:46:14.827731",
     "status": "completed"
    },
    "tags": []
   },
   "source": [
    "From the quick investigation above we can see clearly that some of these features are not \n",
    "indicative on the sevirity of the accident, so we will remove them.\n",
    "The columns we will be removing are: \"Give_Way\", \"No_Exit\""
   ]
  },
  {
   "cell_type": "code",
   "execution_count": 8,
   "id": "25a8b88b",
   "metadata": {
    "execution": {
     "iopub.execute_input": "2021-07-27T16:46:14.969274Z",
     "iopub.status.busy": "2021-07-27T16:46:14.968131Z",
     "iopub.status.idle": "2021-07-27T16:46:14.972127Z",
     "shell.execute_reply": "2021-07-27T16:46:14.972688Z",
     "shell.execute_reply.started": "2021-07-27T16:45:38.665914Z"
    },
    "papermill": {
     "duration": 0.054025,
     "end_time": "2021-07-27T16:46:14.972887",
     "exception": false,
     "start_time": "2021-07-27T16:46:14.918862",
     "status": "completed"
    },
    "tags": []
   },
   "outputs": [],
   "source": [
    "# df3= df2.drop(columns= [\"Give_Way\", \"No_Exit\"])"
   ]
  },
  {
   "cell_type": "code",
   "execution_count": 9,
   "id": "083a749d",
   "metadata": {
    "execution": {
     "iopub.execute_input": "2021-07-27T16:46:15.069510Z",
     "iopub.status.busy": "2021-07-27T16:46:15.068455Z",
     "iopub.status.idle": "2021-07-27T16:46:15.072266Z",
     "shell.execute_reply": "2021-07-27T16:46:15.072827Z",
     "shell.execute_reply.started": "2021-07-27T16:45:38.683160Z"
    },
    "papermill": {
     "duration": 0.054001,
     "end_time": "2021-07-27T16:46:15.073015",
     "exception": false,
     "start_time": "2021-07-27T16:46:15.019014",
     "status": "completed"
    },
    "tags": []
   },
   "outputs": [],
   "source": [
    "# df3.head()"
   ]
  },
  {
   "cell_type": "markdown",
   "id": "df00abd0",
   "metadata": {
    "papermill": {
     "duration": 0.045872,
     "end_time": "2021-07-27T16:46:15.165285",
     "exception": false,
     "start_time": "2021-07-27T16:46:15.119413",
     "status": "completed"
    },
    "tags": []
   },
   "source": [
    "### Converting the Side column cateogories using into 0s, and 1s: "
   ]
  },
  {
   "cell_type": "code",
   "execution_count": 10,
   "id": "0fd28062",
   "metadata": {
    "execution": {
     "iopub.execute_input": "2021-07-27T16:46:15.260632Z",
     "iopub.status.busy": "2021-07-27T16:46:15.259608Z",
     "iopub.status.idle": "2021-07-27T16:46:15.263437Z",
     "shell.execute_reply": "2021-07-27T16:46:15.263982Z",
     "shell.execute_reply.started": "2021-07-27T16:45:38.694933Z"
    },
    "papermill": {
     "duration": 0.053351,
     "end_time": "2021-07-27T16:46:15.264170",
     "exception": false,
     "start_time": "2021-07-27T16:46:15.210819",
     "status": "completed"
    },
    "tags": []
   },
   "outputs": [],
   "source": [
    "# print('values before: ', df3.Side.unique())\n",
    "# # change the side featue into zero for L, one for R\n",
    "# df3['Side']= df2['Side'].apply(lambda x: 1 if x== 'R' else -1)\n",
    "# print('values after', df3.Side.unique())\n",
    "# df3.head()"
   ]
  },
  {
   "cell_type": "markdown",
   "id": "c8163e7d",
   "metadata": {
    "papermill": {
     "duration": 0.04509,
     "end_time": "2021-07-27T16:46:15.354858",
     "exception": false,
     "start_time": "2021-07-27T16:46:15.309768",
     "status": "completed"
    },
    "tags": []
   },
   "source": [
    "## Spliting the time stamp data into 4 seprate columns dateyear, datemonth, dateday, datehour: "
   ]
  },
  {
   "cell_type": "code",
   "execution_count": 11,
   "id": "a0da6409",
   "metadata": {
    "execution": {
     "iopub.execute_input": "2021-07-27T16:46:15.450061Z",
     "iopub.status.busy": "2021-07-27T16:46:15.449026Z",
     "iopub.status.idle": "2021-07-27T16:46:15.452613Z",
     "shell.execute_reply": "2021-07-27T16:46:15.453182Z",
     "shell.execute_reply.started": "2021-07-27T16:45:38.706154Z"
    },
    "papermill": {
     "duration": 0.053251,
     "end_time": "2021-07-27T16:46:15.453397",
     "exception": false,
     "start_time": "2021-07-27T16:46:15.400146",
     "status": "completed"
    },
    "tags": []
   },
   "outputs": [],
   "source": [
    "# df3['dateyear']= pd.to_datetime(df3['timestamp']).dt.year\n",
    "# df3['datemonth']= pd.to_datetime(df3['timestamp']).dt.month\n",
    "# df3['dateday']= pd.to_datetime(df3['timestamp']).dt.day\n",
    "# df3['datehour']= pd.to_datetime(df3['timestamp']).dt.hour"
   ]
  },
  {
   "cell_type": "code",
   "execution_count": 12,
   "id": "1cb8e7d1",
   "metadata": {
    "execution": {
     "iopub.execute_input": "2021-07-27T16:46:15.548342Z",
     "iopub.status.busy": "2021-07-27T16:46:15.547291Z",
     "iopub.status.idle": "2021-07-27T16:46:15.550787Z",
     "shell.execute_reply": "2021-07-27T16:46:15.551428Z",
     "shell.execute_reply.started": "2021-07-27T16:45:38.724131Z"
    },
    "papermill": {
     "duration": 0.052819,
     "end_time": "2021-07-27T16:46:15.551634",
     "exception": false,
     "start_time": "2021-07-27T16:46:15.498815",
     "status": "completed"
    },
    "tags": []
   },
   "outputs": [],
   "source": [
    "# df4= df3.drop(columns= ['timestamp'])\n",
    "# df4.head()"
   ]
  },
  {
   "cell_type": "markdown",
   "id": "8c6963b0",
   "metadata": {
    "papermill": {
     "duration": 0.045708,
     "end_time": "2021-07-27T16:46:15.642881",
     "exception": false,
     "start_time": "2021-07-27T16:46:15.597173",
     "status": "completed"
    },
    "tags": []
   },
   "source": [
    "## Finding the correlation between the sevirity, and the rest of the features: "
   ]
  },
  {
   "cell_type": "code",
   "execution_count": 13,
   "id": "bf5472ae",
   "metadata": {
    "execution": {
     "iopub.execute_input": "2021-07-27T16:46:15.738342Z",
     "iopub.status.busy": "2021-07-27T16:46:15.737586Z",
     "iopub.status.idle": "2021-07-27T16:46:15.741061Z",
     "shell.execute_reply": "2021-07-27T16:46:15.741593Z",
     "shell.execute_reply.started": "2021-07-27T16:45:38.736804Z"
    },
    "papermill": {
     "duration": 0.053051,
     "end_time": "2021-07-27T16:46:15.741812",
     "exception": false,
     "start_time": "2021-07-27T16:46:15.688761",
     "status": "completed"
    },
    "tags": []
   },
   "outputs": [],
   "source": [
    "# for col in df4.columns:\n",
    "#     print(col+\": \", df4['Severity'].corr(df4[col]))"
   ]
  },
  {
   "cell_type": "code",
   "execution_count": 14,
   "id": "90c4ab0a",
   "metadata": {
    "execution": {
     "iopub.execute_input": "2021-07-27T16:46:15.837315Z",
     "iopub.status.busy": "2021-07-27T16:46:15.836575Z",
     "iopub.status.idle": "2021-07-27T16:46:15.840081Z",
     "shell.execute_reply": "2021-07-27T16:46:15.840620Z",
     "shell.execute_reply.started": "2021-07-27T16:45:38.749817Z"
    },
    "papermill": {
     "duration": 0.053157,
     "end_time": "2021-07-27T16:46:15.840816",
     "exception": false,
     "start_time": "2021-07-27T16:46:15.787659",
     "status": "completed"
    },
    "tags": []
   },
   "outputs": [],
   "source": [
    "# df4.head()"
   ]
  },
  {
   "cell_type": "markdown",
   "id": "ccac66e8",
   "metadata": {
    "papermill": {
     "duration": 0.045796,
     "end_time": "2021-07-27T16:46:15.932367",
     "exception": false,
     "start_time": "2021-07-27T16:46:15.886571",
     "status": "completed"
    },
    "tags": []
   },
   "source": [
    "### Checking correlation of the characteristics of the location and each other "
   ]
  },
  {
   "cell_type": "code",
   "execution_count": 15,
   "id": "36b0bcc9",
   "metadata": {
    "execution": {
     "iopub.execute_input": "2021-07-27T16:46:16.028143Z",
     "iopub.status.busy": "2021-07-27T16:46:16.027413Z",
     "iopub.status.idle": "2021-07-27T16:46:16.030993Z",
     "shell.execute_reply": "2021-07-27T16:46:16.031578Z",
     "shell.execute_reply.started": "2021-07-27T16:45:38.762780Z"
    },
    "papermill": {
     "duration": 0.053415,
     "end_time": "2021-07-27T16:46:16.031777",
     "exception": false,
     "start_time": "2021-07-27T16:46:15.978362",
     "status": "completed"
    },
    "tags": []
   },
   "outputs": [],
   "source": [
    "# pp.ProfileReport(df4)"
   ]
  },
  {
   "cell_type": "code",
   "execution_count": 16,
   "id": "d0fd6409",
   "metadata": {
    "execution": {
     "iopub.execute_input": "2021-07-27T16:46:16.127903Z",
     "iopub.status.busy": "2021-07-27T16:46:16.127210Z",
     "iopub.status.idle": "2021-07-27T16:46:16.130911Z",
     "shell.execute_reply": "2021-07-27T16:46:16.131448Z",
     "shell.execute_reply.started": "2021-07-27T16:45:38.775309Z"
    },
    "papermill": {
     "duration": 0.054071,
     "end_time": "2021-07-27T16:46:16.131644",
     "exception": false,
     "start_time": "2021-07-27T16:46:16.077573",
     "status": "completed"
    },
    "tags": []
   },
   "outputs": [],
   "source": [
    "# for i in df4.columns:\n",
    "#     for j in df4.columns:\n",
    "#         print(i+\" and \"+ j, df4[i].corr(df4[j]))\n",
    "#     print(\"\\n\")"
   ]
  },
  {
   "cell_type": "code",
   "execution_count": 17,
   "id": "57649d5d",
   "metadata": {
    "execution": {
     "iopub.execute_input": "2021-07-27T16:46:16.226562Z",
     "iopub.status.busy": "2021-07-27T16:46:16.225834Z",
     "iopub.status.idle": "2021-07-27T16:46:16.230459Z",
     "shell.execute_reply": "2021-07-27T16:46:16.229894Z",
     "shell.execute_reply.started": "2021-07-27T16:45:38.785658Z"
    },
    "papermill": {
     "duration": 0.053134,
     "end_time": "2021-07-27T16:46:16.230631",
     "exception": false,
     "start_time": "2021-07-27T16:46:16.177497",
     "status": "completed"
    },
    "tags": []
   },
   "outputs": [],
   "source": [
    "# df4.head()"
   ]
  },
  {
   "cell_type": "code",
   "execution_count": 18,
   "id": "e8cb4caf",
   "metadata": {
    "execution": {
     "iopub.execute_input": "2021-07-27T16:46:16.327306Z",
     "iopub.status.busy": "2021-07-27T16:46:16.326562Z",
     "iopub.status.idle": "2021-07-27T16:46:16.328464Z",
     "shell.execute_reply": "2021-07-27T16:46:16.328912Z",
     "shell.execute_reply.started": "2021-07-27T16:45:38.797323Z"
    },
    "papermill": {
     "duration": 0.052677,
     "end_time": "2021-07-27T16:46:16.329108",
     "exception": false,
     "start_time": "2021-07-27T16:46:16.276431",
     "status": "completed"
    },
    "tags": []
   },
   "outputs": [],
   "source": [
    "# df4['timestamp']= df['timestamp']\n",
    "# df4"
   ]
  },
  {
   "cell_type": "markdown",
   "id": "a53c9014",
   "metadata": {
    "papermill": {
     "duration": 0.045233,
     "end_time": "2021-07-27T16:46:16.420277",
     "exception": false,
     "start_time": "2021-07-27T16:46:16.375044",
     "status": "completed"
    },
    "tags": []
   },
   "source": [
    "### Trial to find the geo location:"
   ]
  },
  {
   "cell_type": "code",
   "execution_count": 19,
   "id": "a6d78f46",
   "metadata": {
    "execution": {
     "iopub.execute_input": "2021-07-27T16:46:16.514656Z",
     "iopub.status.busy": "2021-07-27T16:46:16.513965Z",
     "iopub.status.idle": "2021-07-27T16:46:16.517259Z",
     "shell.execute_reply": "2021-07-27T16:46:16.517780Z",
     "shell.execute_reply.started": "2021-07-27T16:45:38.808038Z"
    },
    "papermill": {
     "duration": 0.052172,
     "end_time": "2021-07-27T16:46:16.517969",
     "exception": false,
     "start_time": "2021-07-27T16:46:16.465797",
     "status": "completed"
    },
    "tags": []
   },
   "outputs": [],
   "source": [
    "# from geopy.geocoders import Nominatim"
   ]
  },
  {
   "cell_type": "code",
   "execution_count": 20,
   "id": "b10ea86b",
   "metadata": {
    "execution": {
     "iopub.execute_input": "2021-07-27T16:46:16.612525Z",
     "iopub.status.busy": "2021-07-27T16:46:16.611893Z",
     "iopub.status.idle": "2021-07-27T16:46:16.616223Z",
     "shell.execute_reply": "2021-07-27T16:46:16.615666Z",
     "shell.execute_reply.started": "2021-07-27T16:45:38.819502Z"
    },
    "papermill": {
     "duration": 0.052752,
     "end_time": "2021-07-27T16:46:16.616389",
     "exception": false,
     "start_time": "2021-07-27T16:46:16.563637",
     "status": "completed"
    },
    "tags": []
   },
   "outputs": [],
   "source": [
    "# geolocator = Nominatim(user_agent=\"geoapiExercises\")"
   ]
  },
  {
   "cell_type": "code",
   "execution_count": 21,
   "id": "dcb7b176",
   "metadata": {
    "execution": {
     "iopub.execute_input": "2021-07-27T16:46:16.712016Z",
     "iopub.status.busy": "2021-07-27T16:46:16.711271Z",
     "iopub.status.idle": "2021-07-27T16:46:16.715618Z",
     "shell.execute_reply": "2021-07-27T16:46:16.714994Z",
     "shell.execute_reply.started": "2021-07-27T16:45:38.830254Z"
    },
    "papermill": {
     "duration": 0.05311,
     "end_time": "2021-07-27T16:46:16.715791",
     "exception": false,
     "start_time": "2021-07-27T16:46:16.662681",
     "status": "completed"
    },
    "tags": []
   },
   "outputs": [],
   "source": [
    "# # lat, long= str(df5['Lat'][0]), str(df5['Lng'][0])\n",
    "# lat, long"
   ]
  },
  {
   "cell_type": "code",
   "execution_count": 22,
   "id": "f64584b0",
   "metadata": {
    "execution": {
     "iopub.execute_input": "2021-07-27T16:46:16.811869Z",
     "iopub.status.busy": "2021-07-27T16:46:16.811094Z",
     "iopub.status.idle": "2021-07-27T16:46:16.814412Z",
     "shell.execute_reply": "2021-07-27T16:46:16.815016Z",
     "shell.execute_reply.started": "2021-07-27T16:45:38.842596Z"
    },
    "papermill": {
     "duration": 0.053188,
     "end_time": "2021-07-27T16:46:16.815225",
     "exception": false,
     "start_time": "2021-07-27T16:46:16.762037",
     "status": "completed"
    },
    "tags": []
   },
   "outputs": [],
   "source": [
    "# address= geolocator.reverse(lat+\",\"+long).raw['address']\n",
    "# zipcode = address.get('postcode')\n",
    "# zipcode"
   ]
  },
  {
   "cell_type": "code",
   "execution_count": 23,
   "id": "1c1a17fc",
   "metadata": {
    "execution": {
     "iopub.execute_input": "2021-07-27T16:46:16.909840Z",
     "iopub.status.busy": "2021-07-27T16:46:16.909135Z",
     "iopub.status.idle": "2021-07-27T16:46:16.912401Z",
     "shell.execute_reply": "2021-07-27T16:46:16.912974Z",
     "shell.execute_reply.started": "2021-07-27T16:45:38.855352Z"
    },
    "papermill": {
     "duration": 0.052322,
     "end_time": "2021-07-27T16:46:16.913159",
     "exception": false,
     "start_time": "2021-07-27T16:46:16.860837",
     "status": "completed"
    },
    "tags": []
   },
   "outputs": [],
   "source": [
    "# df100= df5[:5]\n",
    "# df100.head()"
   ]
  },
  {
   "cell_type": "code",
   "execution_count": 24,
   "id": "19f0f694",
   "metadata": {
    "execution": {
     "iopub.execute_input": "2021-07-27T16:46:17.007836Z",
     "iopub.status.busy": "2021-07-27T16:46:17.006755Z",
     "iopub.status.idle": "2021-07-27T16:46:17.010266Z",
     "shell.execute_reply": "2021-07-27T16:46:17.010851Z",
     "shell.execute_reply.started": "2021-07-27T16:45:38.870829Z"
    },
    "papermill": {
     "duration": 0.0525,
     "end_time": "2021-07-27T16:46:17.011053",
     "exception": false,
     "start_time": "2021-07-27T16:46:16.958553",
     "status": "completed"
    },
    "tags": []
   },
   "outputs": [],
   "source": [
    "# def location(df):\n",
    "#     return geolocator.reverse(str(df['Lat']) + ',' + str(df['Lng'])).raw['address'].get('postcode')"
   ]
  },
  {
   "cell_type": "code",
   "execution_count": 25,
   "id": "d6aec61b",
   "metadata": {
    "execution": {
     "iopub.execute_input": "2021-07-27T16:46:17.106467Z",
     "iopub.status.busy": "2021-07-27T16:46:17.105683Z",
     "iopub.status.idle": "2021-07-27T16:46:17.110341Z",
     "shell.execute_reply": "2021-07-27T16:46:17.109682Z",
     "shell.execute_reply.started": "2021-07-27T16:45:38.878721Z"
    },
    "papermill": {
     "duration": 0.053599,
     "end_time": "2021-07-27T16:46:17.110495",
     "exception": false,
     "start_time": "2021-07-27T16:46:17.056896",
     "status": "completed"
    },
    "tags": []
   },
   "outputs": [],
   "source": [
    "# df5['location']= df5.apply(location, axis= 1)"
   ]
  },
  {
   "cell_type": "code",
   "execution_count": null,
   "id": "aa8d8a63",
   "metadata": {
    "papermill": {
     "duration": 0.044836,
     "end_time": "2021-07-27T16:46:17.200733",
     "exception": false,
     "start_time": "2021-07-27T16:46:17.155897",
     "status": "completed"
    },
    "tags": []
   },
   "outputs": [],
   "source": []
  },
  {
   "cell_type": "code",
   "execution_count": 26,
   "id": "2a2f9780",
   "metadata": {
    "execution": {
     "iopub.execute_input": "2021-07-27T16:46:17.296718Z",
     "iopub.status.busy": "2021-07-27T16:46:17.296006Z",
     "iopub.status.idle": "2021-07-27T16:46:17.299085Z",
     "shell.execute_reply": "2021-07-27T16:46:17.298578Z",
     "shell.execute_reply.started": "2021-07-27T16:45:38.886890Z"
    },
    "papermill": {
     "duration": 0.052948,
     "end_time": "2021-07-27T16:46:17.299254",
     "exception": false,
     "start_time": "2021-07-27T16:46:17.246306",
     "status": "completed"
    },
    "tags": []
   },
   "outputs": [],
   "source": [
    "# df5['location'].head(50)"
   ]
  },
  {
   "cell_type": "markdown",
   "id": "a8c033c3",
   "metadata": {
    "papermill": {
     "duration": 0.045592,
     "end_time": "2021-07-27T16:46:17.390448",
     "exception": false,
     "start_time": "2021-07-27T16:46:17.344856",
     "status": "completed"
    },
    "tags": []
   },
   "source": [
    "# Determing days off: "
   ]
  },
  {
   "cell_type": "code",
   "execution_count": 27,
   "id": "9f7d74a8",
   "metadata": {
    "execution": {
     "iopub.execute_input": "2021-07-27T16:46:17.486567Z",
     "iopub.status.busy": "2021-07-27T16:46:17.485822Z",
     "iopub.status.idle": "2021-07-27T16:46:17.488825Z",
     "shell.execute_reply": "2021-07-27T16:46:17.488329Z",
     "shell.execute_reply.started": "2021-07-27T16:45:38.898811Z"
    },
    "papermill": {
     "duration": 0.052798,
     "end_time": "2021-07-27T16:46:17.488973",
     "exception": false,
     "start_time": "2021-07-27T16:46:17.436175",
     "status": "completed"
    },
    "tags": []
   },
   "outputs": [],
   "source": [
    "# df4['timestamp']= pd.to_datetime(df4['timestamp'])\n",
    "# df4['dayNum']= df4['timestamp'].dt.dayofweek\n",
    "# df4.head()"
   ]
  },
  {
   "cell_type": "code",
   "execution_count": 28,
   "id": "17ce1efd",
   "metadata": {
    "execution": {
     "iopub.execute_input": "2021-07-27T16:46:17.584836Z",
     "iopub.status.busy": "2021-07-27T16:46:17.584088Z",
     "iopub.status.idle": "2021-07-27T16:46:17.585886Z",
     "shell.execute_reply": "2021-07-27T16:46:17.586478Z",
     "shell.execute_reply.started": "2021-07-27T16:45:38.909205Z"
    },
    "papermill": {
     "duration": 0.052219,
     "end_time": "2021-07-27T16:46:17.586672",
     "exception": false,
     "start_time": "2021-07-27T16:46:17.534453",
     "status": "completed"
    },
    "tags": []
   },
   "outputs": [],
   "source": [
    "# df4['day_off']= df4['dayNum'].apply(lambda x: 1 if (x== 6 or x== 5) else 0)"
   ]
  },
  {
   "cell_type": "code",
   "execution_count": 29,
   "id": "984febf8",
   "metadata": {
    "execution": {
     "iopub.execute_input": "2021-07-27T16:46:17.682837Z",
     "iopub.status.busy": "2021-07-27T16:46:17.682198Z",
     "iopub.status.idle": "2021-07-27T16:46:17.685378Z",
     "shell.execute_reply": "2021-07-27T16:46:17.685899Z",
     "shell.execute_reply.started": "2021-07-27T16:45:38.919671Z"
    },
    "papermill": {
     "duration": 0.054039,
     "end_time": "2021-07-27T16:46:17.686082",
     "exception": false,
     "start_time": "2021-07-27T16:46:17.632043",
     "status": "completed"
    },
    "tags": []
   },
   "outputs": [],
   "source": [
    "# df5= df4.drop(columns=['timestamp', 'dayNum'])"
   ]
  },
  {
   "cell_type": "code",
   "execution_count": 30,
   "id": "19aa466f",
   "metadata": {
    "execution": {
     "iopub.execute_input": "2021-07-27T16:46:17.786546Z",
     "iopub.status.busy": "2021-07-27T16:46:17.785750Z",
     "iopub.status.idle": "2021-07-27T16:46:17.789209Z",
     "shell.execute_reply": "2021-07-27T16:46:17.789765Z",
     "shell.execute_reply.started": "2021-07-27T16:45:38.929787Z"
    },
    "papermill": {
     "duration": 0.057049,
     "end_time": "2021-07-27T16:46:17.789962",
     "exception": false,
     "start_time": "2021-07-27T16:46:17.732913",
     "status": "completed"
    },
    "tags": []
   },
   "outputs": [],
   "source": [
    "# df6.info()"
   ]
  },
  {
   "cell_type": "markdown",
   "id": "af633b76",
   "metadata": {
    "papermill": {
     "duration": 0.045558,
     "end_time": "2021-07-27T16:46:17.881735",
     "exception": false,
     "start_time": "2021-07-27T16:46:17.836177",
     "status": "completed"
    },
    "tags": []
   },
   "source": [
    "## adding an attribute to represent whether the day was a holiday or not:"
   ]
  },
  {
   "cell_type": "code",
   "execution_count": 31,
   "id": "3a87f253",
   "metadata": {
    "execution": {
     "iopub.execute_input": "2021-07-27T16:46:17.976797Z",
     "iopub.status.busy": "2021-07-27T16:46:17.976103Z",
     "iopub.status.idle": "2021-07-27T16:46:17.981128Z",
     "shell.execute_reply": "2021-07-27T16:46:17.980562Z",
     "shell.execute_reply.started": "2021-07-27T16:45:38.940322Z"
    },
    "papermill": {
     "duration": 0.053789,
     "end_time": "2021-07-27T16:46:17.981321",
     "exception": false,
     "start_time": "2021-07-27T16:46:17.927532",
     "status": "completed"
    },
    "tags": []
   },
   "outputs": [],
   "source": [
    "# import xml.etree.ElementTree as ET\n",
    "# xml_data = open('holidays.xml', 'r').read()  # Read file\n",
    "# root = ET.XML(xml_data)  # Parse XML\n",
    "\n",
    "# data = []\n",
    "# cols = []\n",
    "# for i, child in enumerate(root):\n",
    "#     data.append([subchild.text for subchild in child])\n",
    "#     cols.append(child.tag)\n",
    "\n",
    "# dfHoliday = pd.DataFrame(data).T  # Write in DF and transpose it\n",
    "# dfHoliday.columns = cols  # Update column names\n",
    "# dfHoliday=dfHoliday.T\n",
    "# dfHoliday=dfHoliday.reset_index()\n",
    "# dfHoliday.drop(columns='index',inplace=True)\n",
    "# dfHoliday.rename(columns = {0:'justDate',1:'HolidayName'}, inplace = True)\n",
    "# dfHoliday"
   ]
  },
  {
   "cell_type": "code",
   "execution_count": 32,
   "id": "c261f4c6",
   "metadata": {
    "execution": {
     "iopub.execute_input": "2021-07-27T16:46:18.082489Z",
     "iopub.status.busy": "2021-07-27T16:46:18.081655Z",
     "iopub.status.idle": "2021-07-27T16:46:18.343074Z",
     "shell.execute_reply": "2021-07-27T16:46:18.344021Z",
     "shell.execute_reply.started": "2021-07-27T16:45:38.952963Z"
    },
    "papermill": {
     "duration": 0.317239,
     "end_time": "2021-07-27T16:46:18.344367",
     "exception": false,
     "start_time": "2021-07-27T16:46:18.027128",
     "status": "completed"
    },
    "tags": []
   },
   "outputs": [],
   "source": [
    "weather_df = pd.read_csv(os.path.join(dataset_path, 'weather-sfcsv.csv'))\n",
    "weather_df['timestamp'] = pd.to_datetime(weather_df[['Year','Month','Day','Hour']])\n",
    "weather_df.drop(columns=['Year','Month','Day','Hour'],inplace=True)\n",
    "weather_df = weather_df.drop_duplicates(subset = ['timestamp'], keep = 'first') \n",
    "weather_dfNew= weather_df.drop(columns=['Wind_Chill(F)','Precipitation(in)','Selected'])\n",
    "weather_dfNew.sort_values('timestamp',inplace=True)\n",
    "imputer = KNNImputer()\n",
    "weather_dfNew['Temperature(F)'] = imputer.fit_transform(weather_dfNew[['Temperature(F)']])\n",
    "weather_dfNew['Humidity(%)'] = imputer.fit_transform(weather_dfNew[['Humidity(%)']])\n",
    "weather_dfNew['Wind_Speed(mph)'] = imputer.fit_transform(weather_dfNew[['Wind_Speed(mph)']])\n",
    "weather_dfNew['Visibility(mi)'] = imputer.fit_transform(weather_dfNew[['Visibility(mi)']])\n",
    "weather_dfNew.dropna(subset=['Weather_Condition'],inplace=True)\n",
    "weather_dfNew.reset_index(drop=True, inplace=True)"
   ]
  },
  {
   "cell_type": "code",
   "execution_count": 33,
   "id": "fecf3953",
   "metadata": {
    "execution": {
     "iopub.execute_input": "2021-07-27T16:46:18.440750Z",
     "iopub.status.busy": "2021-07-27T16:46:18.439657Z",
     "iopub.status.idle": "2021-07-27T16:46:18.456336Z",
     "shell.execute_reply": "2021-07-27T16:46:18.456889Z",
     "shell.execute_reply.started": "2021-07-27T16:45:39.159127Z"
    },
    "papermill": {
     "duration": 0.067028,
     "end_time": "2021-07-27T16:46:18.457095",
     "exception": false,
     "start_time": "2021-07-27T16:46:18.390067",
     "status": "completed"
    },
    "tags": []
   },
   "outputs": [],
   "source": [
    "def weather_encoding(df):\n",
    "    df6 = df\n",
    "    weather ='!'.join(df6['Weather_Condition'].dropna().unique().tolist())\n",
    "    weather = np.unique(np.array(re.split(\n",
    "        \"!|\\s/\\s|\\sand\\s|\\swith\\s|Partly\\s|Mostly\\s|Blowing\\s|Freezing\\s\", weather))).tolist()\n",
    "    df6['Clear'] = np.where(df6['Weather_Condition'].str.contains('Clear|Fair', case=False, na = False), True, False)\n",
    "    df6['Cloud'] = np.where(df6['Weather_Condition'].str.contains('Cloud|Overcast|Partly Cloudy|Mostly Cloudy|Scattered Clouds|Cloudy', case=False, na = False), True, False)\n",
    "    df6['Rain'] = np.where(df6['Weather_Condition'].str.contains('Rain|storm|Light Rain|Light Thunderstorms and Rain|Light Drizzle', case=False, na = False), True, False)\n",
    "    df6['Heavy_Rain'] = np.where(df6['Weather_Condition'].str.contains('Heavy Rain|Rain Shower|Heavy T-Storm|Heavy Thunderstorms', case=False, na = False), True, False)\n",
    "    df6['Snow'] = np.where(df6['Weather_Condition'].str.contains('Snow|Sleet|Ice', case=False, na = False), True, False)\n",
    "    df6['Heavy_Snow'] = np.where(df6['Weather_Condition'].str.contains('Heavy Snow|Heavy Sleet|Heavy Ice Pellets|Snow Showers|Squalls', case=False, na = False), True, False)\n",
    "    df6['Fog'] = np.where(df6['Weather_Condition'].str.contains('Fog|Patches of Fog|Haze|Shallow Fog|Smoke|Mist', case=False, na = False), True, False)\n",
    "    weather = ['Clear','Cloud','Rain','Heavy_Rain','Snow','Heavy_Snow','Fog']\n",
    "    for i in weather:\n",
    "        df6.loc[df6['Weather_Condition'].isnull(),i] = df6.loc[df6['Weather_Condition'].isnull(),'Weather_Condition']\n",
    "        df6[i] = df6[i].astype('bool')\n",
    "\n",
    "    df6.loc[:,['Weather_Condition'] + weather]\n",
    "\n",
    "    df6 = df6.drop(['Weather_Condition'], axis=1)\n",
    "    def one_column_encoding(row):\n",
    "        if row['Fog']:\n",
    "            return 6\n",
    "        elif row['Heavy_Snow'] == True:\n",
    "            return 5\n",
    "        elif row['Snow'] == True:\n",
    "            return 4\n",
    "        elif row['Heavy_Rain'] == True:\n",
    "            return 3\n",
    "        elif row['Rain'] == True:\n",
    "            return 2\n",
    "        elif row['Cloud'] == True:\n",
    "            return 1\n",
    "        else:\n",
    "            return 0\n",
    "    df6['Condition'] = df6.apply(lambda row: one_column_encoding(row), axis=1)\n",
    "#     df6.drop(columns=['Fog','Heavy_Snow','Snow','Heavy_Rain','Rain','Cloud'],inplace=True)\n",
    "    df6.drop(columns=['Condition','Heavy_Snow','Snow','Heavy_Rain'],inplace=True)\n",
    "    return df6"
   ]
  },
  {
   "cell_type": "code",
   "execution_count": 34,
   "id": "672cfaef",
   "metadata": {
    "execution": {
     "iopub.execute_input": "2021-07-27T16:46:18.552694Z",
     "iopub.status.busy": "2021-07-27T16:46:18.551665Z",
     "iopub.status.idle": "2021-07-27T16:46:18.566363Z",
     "shell.execute_reply": "2021-07-27T16:46:18.565736Z",
     "shell.execute_reply.started": "2021-07-27T16:45:39.179701Z"
    },
    "papermill": {
     "duration": 0.063884,
     "end_time": "2021-07-27T16:46:18.566542",
     "exception": false,
     "start_time": "2021-07-27T16:46:18.502658",
     "status": "completed"
    },
    "tags": []
   },
   "outputs": [],
   "source": [
    "def data_prep(file_path, xml_path):\n",
    "    df = pd.read_csv(file_path)\n",
    "    #droping uninportant functions:\n",
    "    df= df.drop(columns=['ID', 'Bump', 'Give_Way', 'No_Exit', 'Roundabout', 'Railway', 'Amenity'])\n",
    "    #extracting year, and month\n",
    "    df['dateyear']= pd.to_datetime(df['timestamp']).dt.year\n",
    "    df['datemonth']= pd.to_datetime(df['timestamp']).dt.month\n",
    "#     df['timestamp_w'] = pd.to_datetime(df[\"timestamp\"])\n",
    "#     df = df.assign(timestamp_w = df.timestamp_w.dt.floor('H'))\n",
    "    df['timestamp']= pd.to_datetime(df['timestamp']).dt.date #elimnating the hour:min:sec part from timestamp\n",
    "    df['dayNum']= pd.to_datetime(df['timestamp']).dt.dayofweek #extracting which day of the week was that\n",
    "    df['timestamp']= pd.to_datetime(df['timestamp']) #converting timestamp to datetime object\n",
    "    #create a label to determine weekend\n",
    "    df['day_off']= df['dayNum'].apply(lambda x: 1 if (x== 6 or x== 5) else 0) \n",
    "    Holidaydf= xml_To_df(xml_path)\n",
    "    \n",
    "    #Taking the holidays into consideration in the column of day off:\n",
    "    day_off= list(df['day_off'])\n",
    "    timestamp= list(df['timestamp'].astype(str))\n",
    "    Holiday= list(Holidaydf['justDate'].astype(str))\n",
    "    \n",
    "    holiday_range= range(len(Holiday))\n",
    "    time_range= range(len(timestamp))\n",
    "    for i in holiday_range:\n",
    "        for j in time_range:\n",
    "            if timestamp[j]== Holiday[i]:\n",
    "                day_off[j]= 1\n",
    "    df['day_off']= pd.Series(day_off)\n",
    "    df['timestamp'] = pd.to_datetime(pd.read_csv(file_path)['timestamp'])\n",
    "    df = df.assign(timestamp = df.timestamp.dt.floor('H'))\n",
    "    df = pd.merge(left=df, right=weather_dfNew, how='left')\n",
    "    df['Side']= df['Side'].apply(lambda x: 1 if x== 'R' else -1)\n",
    "    df = weather_encoding(df)\n",
    "    df= df.drop(columns= ['Crossing', 'Junction', 'Stop', 'Side', 'dayNum', 'timestamp','Humidity(%)'])\n",
    "    df.dropna(subset=['Temperature(F)','Wind_Speed(mph)','Visibility(mi)'],inplace=True)\n",
    "    return df"
   ]
  },
  {
   "cell_type": "code",
   "execution_count": 35,
   "id": "9e2bcd43",
   "metadata": {
    "execution": {
     "iopub.execute_input": "2021-07-27T16:46:18.667129Z",
     "iopub.status.busy": "2021-07-27T16:46:18.666047Z",
     "iopub.status.idle": "2021-07-27T16:46:19.308304Z",
     "shell.execute_reply": "2021-07-27T16:46:19.307685Z",
     "shell.execute_reply.started": "2021-07-27T16:45:39.200660Z"
    },
    "papermill": {
     "duration": 0.694895,
     "end_time": "2021-07-27T16:46:19.308488",
     "exception": false,
     "start_time": "2021-07-27T16:46:18.613593",
     "status": "completed"
    },
    "tags": []
   },
   "outputs": [],
   "source": [
    "dataset_path = '/kaggle/input/car-crashes-severity-prediction/'\n",
    "training_path = os.path.join(dataset_path, 'train.csv')\n",
    "xml_path = os.path.join(dataset_path, 'holidays.xml')\n",
    "df = data_prep(training_path,xml_path)"
   ]
  },
  {
   "cell_type": "markdown",
   "id": "1300301c",
   "metadata": {
    "papermill": {
     "duration": 0.045738,
     "end_time": "2021-07-27T16:46:19.400804",
     "exception": false,
     "start_time": "2021-07-27T16:46:19.355066",
     "status": "completed"
    },
    "tags": []
   },
   "source": [
    "# ML Model: "
   ]
  },
  {
   "cell_type": "code",
   "execution_count": 36,
   "id": "b857e5f1",
   "metadata": {
    "execution": {
     "iopub.execute_input": "2021-07-27T16:46:19.500422Z",
     "iopub.status.busy": "2021-07-27T16:46:19.499595Z",
     "iopub.status.idle": "2021-07-27T16:46:19.525819Z",
     "shell.execute_reply": "2021-07-27T16:46:19.526407Z",
     "shell.execute_reply.started": "2021-07-27T16:45:39.849368Z"
    },
    "papermill": {
     "duration": 0.079945,
     "end_time": "2021-07-27T16:46:19.526603",
     "exception": false,
     "start_time": "2021-07-27T16:46:19.446658",
     "status": "completed"
    },
    "tags": []
   },
   "outputs": [
    {
     "name": "stdout",
     "output_type": "stream",
     "text": [
      "            Lat         Lng  Distance(mi)  Severity  dateyear  datemonth  \\\n",
      "0     37.762150 -122.405660         0.044         2      2016          3   \n",
      "1     37.719157 -122.448254         0.000         2      2020          5   \n",
      "2     37.808498 -122.366852         0.000         3      2016          9   \n",
      "3     37.785930 -122.391080         0.009         1      2020          3   \n",
      "4     37.719141 -122.448457         0.000         2      2019         10   \n",
      "...         ...         ...           ...       ...       ...        ...   \n",
      "6402  37.740630 -122.407930         0.368         3      2017         10   \n",
      "6403  37.752755 -122.402790         0.639         2      2018         10   \n",
      "6404  37.726304 -122.446015         0.000         2      2019         10   \n",
      "6405  37.808090 -122.367211         0.000         3      2019          5   \n",
      "6406  37.773745 -122.408515         0.000         2      2020          2   \n",
      "\n",
      "      day_off  Temperature(F)  Wind_Speed(mph)  Visibility(mi)  Clear  Cloud  \\\n",
      "0           0            64.0             23.0            10.0  False   True   \n",
      "1           0            57.0             22.0            10.0  False   True   \n",
      "2           0            62.1              9.2            10.0   True  False   \n",
      "3           1            58.0             10.0            10.0   True  False   \n",
      "4           0            58.0              3.0            10.0   True  False   \n",
      "...       ...             ...              ...             ...    ...    ...   \n",
      "6402        1            61.0             17.3            10.0  False   True   \n",
      "6403        0            57.0              6.9            10.0  False   True   \n",
      "6404        0            71.0              9.0            10.0   True  False   \n",
      "6405        1            63.0             13.0            10.0   True  False   \n",
      "6406        0            52.0             13.0            10.0  False   True   \n",
      "\n",
      "       Rain    Fog  \n",
      "0     False  False  \n",
      "1     False  False  \n",
      "2     False  False  \n",
      "3     False  False  \n",
      "4     False  False  \n",
      "...     ...    ...  \n",
      "6402  False  False  \n",
      "6403  False  False  \n",
      "6404  False  False  \n",
      "6405  False  False  \n",
      "6406  False  False  \n",
      "\n",
      "[6406 rows x 14 columns]\n"
     ]
    }
   ],
   "source": [
    "from sklearn.model_selection import train_test_split\n",
    "# df5.drop(columns= ['Lat'], axis= 1)\n",
    "train_df, val_df = train_test_split(df, test_size=0.2, random_state=42, stratify=df['Severity']) # Try adding `stratify` here\n",
    "print(df)\n",
    "X_train = train_df.drop(columns=['Severity'])\n",
    "y_train = train_df['Severity']\n",
    "\n",
    "X_val = val_df.drop(columns=['Severity'])\n",
    "y_val = val_df['Severity']\n"
   ]
  },
  {
   "cell_type": "code",
   "execution_count": 37,
   "id": "698c64e1",
   "metadata": {
    "execution": {
     "iopub.execute_input": "2021-07-27T16:46:19.624855Z",
     "iopub.status.busy": "2021-07-27T16:46:19.624130Z",
     "iopub.status.idle": "2021-07-27T16:46:19.626146Z",
     "shell.execute_reply": "2021-07-27T16:46:19.626656Z",
     "shell.execute_reply.started": "2021-07-27T16:45:39.879936Z"
    },
    "papermill": {
     "duration": 0.053787,
     "end_time": "2021-07-27T16:46:19.626850",
     "exception": false,
     "start_time": "2021-07-27T16:46:19.573063",
     "status": "completed"
    },
    "tags": []
   },
   "outputs": [],
   "source": [
    "# X_train.head()"
   ]
  },
  {
   "cell_type": "code",
   "execution_count": 38,
   "id": "9adac544",
   "metadata": {
    "execution": {
     "iopub.execute_input": "2021-07-27T16:46:19.725746Z",
     "iopub.status.busy": "2021-07-27T16:46:19.724926Z",
     "iopub.status.idle": "2021-07-27T16:46:20.494982Z",
     "shell.execute_reply": "2021-07-27T16:46:20.495606Z",
     "shell.execute_reply.started": "2021-07-27T16:45:39.886022Z"
    },
    "papermill": {
     "duration": 0.820914,
     "end_time": "2021-07-27T16:46:20.495820",
     "exception": false,
     "start_time": "2021-07-27T16:46:19.674906",
     "status": "completed"
    },
    "tags": []
   },
   "outputs": [],
   "source": [
    "from sklearn.ensemble import RandomForestClassifier\n",
    "\n",
    "# Create an instance of the classifie\n",
    "classifier = RandomForestClassifier(max_depth= 15, random_state=42)\n",
    "\n",
    "# Train the classifier\n",
    "classifier = classifier.fit(X_train, y_train)"
   ]
  },
  {
   "cell_type": "code",
   "execution_count": 39,
   "id": "7f42c3bd",
   "metadata": {
    "execution": {
     "iopub.execute_input": "2021-07-27T16:46:20.594351Z",
     "iopub.status.busy": "2021-07-27T16:46:20.593607Z",
     "iopub.status.idle": "2021-07-27T16:46:20.640374Z",
     "shell.execute_reply": "2021-07-27T16:46:20.641057Z",
     "shell.execute_reply.started": "2021-07-27T16:45:40.592197Z"
    },
    "papermill": {
     "duration": 0.098609,
     "end_time": "2021-07-27T16:46:20.641287",
     "exception": false,
     "start_time": "2021-07-27T16:46:20.542678",
     "status": "completed"
    },
    "tags": []
   },
   "outputs": [
    {
     "name": "stdout",
     "output_type": "stream",
     "text": [
      "The accuracy of the classifier on the validation set is  0.8369734789391575\n"
     ]
    }
   ],
   "source": [
    "print(\"The accuracy of the classifier on the validation set is \", (classifier.score(X_val, y_val)))"
   ]
  },
  {
   "cell_type": "markdown",
   "id": "a1751fbe",
   "metadata": {
    "papermill": {
     "duration": 0.047276,
     "end_time": "2021-07-27T16:46:20.735876",
     "exception": false,
     "start_time": "2021-07-27T16:46:20.688600",
     "status": "completed"
    },
    "tags": []
   },
   "source": []
  },
  {
   "cell_type": "markdown",
   "id": "b74d48f0",
   "metadata": {
    "papermill": {
     "duration": 0.053826,
     "end_time": "2021-07-27T16:46:20.850030",
     "exception": false,
     "start_time": "2021-07-27T16:46:20.796204",
     "status": "completed"
    },
    "tags": []
   },
   "source": [
    "## Taking Weather into consideration: "
   ]
  },
  {
   "cell_type": "code",
   "execution_count": 40,
   "id": "dd93c82e",
   "metadata": {
    "execution": {
     "iopub.execute_input": "2021-07-27T16:46:20.945954Z",
     "iopub.status.busy": "2021-07-27T16:46:20.945241Z",
     "iopub.status.idle": "2021-07-27T16:46:20.948890Z",
     "shell.execute_reply": "2021-07-27T16:46:20.949479Z",
     "shell.execute_reply.started": "2021-07-27T16:45:40.642150Z"
    },
    "papermill": {
     "duration": 0.053297,
     "end_time": "2021-07-27T16:46:20.949668",
     "exception": false,
     "start_time": "2021-07-27T16:46:20.896371",
     "status": "completed"
    },
    "tags": []
   },
   "outputs": [],
   "source": [
    "\n",
    "# weather_df = pd.read_csv('weather-sfcsv.csv')\n",
    "# severity_df = df.drop(df.columns.difference(['Severity','timestamp']), 1)\n",
    "# severity_df['timestamp']=pd.to_datetime(df['timestamp'])\n",
    "# severity_df = severity_df.assign(timestamp = severity_df.timestamp.dt.round('H'))\n",
    "# severity_df\n",
    "\n",
    "# # severity_df['Month']=pd.DatetimeIndex(df['timestamp']).month\n",
    "# # severity_df['Day']=pd.DatetimeIndex(df['timestamp']).day\n",
    "# # severity_df['Hour']=pd.DatetimeIndex(df['timestamp']).hour\n",
    "# # result = pd.merge(severity_df, weather_df,  how='inner', on=['Year', 'Month', 'Day', 'Hour'])\n",
    "# # result\n",
    "# # weather_df['Weather_Condition'].value_counts()\n",
    "# # weather_df['timestamp'] = weather_df['Year']+\"-\"+weather_df['Month']+\"-\"+weather_df['Day']+\" \"+weather_df['Hour']+\":00:00\"\n",
    "# weather_df['timestamp'] = pd.to_datetime(weather_df[['Year','Month','Day','Hour']])\n",
    "# weather_df.drop(columns=['Year','Month','Day','Hour'],inplace=True)\n",
    "# print(weather_df['timestamp'].value_counts())\n",
    "# # print(severity_df['timestamp'].value_counts())\n",
    "# weather_df = weather_df.drop_duplicates(subset = ['timestamp'], keep = 'first') \n",
    "# print(weather_df['timestamp'].value_counts())\n",
    "# severity_df.head()"
   ]
  },
  {
   "cell_type": "code",
   "execution_count": 41,
   "id": "1ff91335",
   "metadata": {
    "execution": {
     "iopub.execute_input": "2021-07-27T16:46:21.046338Z",
     "iopub.status.busy": "2021-07-27T16:46:21.045631Z",
     "iopub.status.idle": "2021-07-27T16:46:21.049211Z",
     "shell.execute_reply": "2021-07-27T16:46:21.049787Z",
     "shell.execute_reply.started": "2021-07-27T16:45:40.653552Z"
    },
    "papermill": {
     "duration": 0.053454,
     "end_time": "2021-07-27T16:46:21.049983",
     "exception": false,
     "start_time": "2021-07-27T16:46:20.996529",
     "status": "completed"
    },
    "tags": []
   },
   "outputs": [],
   "source": [
    "# df5['timestamp']=pd.to_datetime(df['timestamp'])\n",
    "# df5 = df5.assign(timestamp = df5.timestamp.dt.round('H'))\n",
    "# df6= df5.merge(weather_df,on='timestamp',how='left')\n",
    "# df6.sort_values('timestamp',inplace=True)\n",
    "# pp.ProfileReport(df6)\n"
   ]
  },
  {
   "cell_type": "code",
   "execution_count": 42,
   "id": "23adacd1",
   "metadata": {
    "execution": {
     "iopub.execute_input": "2021-07-27T16:46:21.147657Z",
     "iopub.status.busy": "2021-07-27T16:46:21.146575Z",
     "iopub.status.idle": "2021-07-27T16:46:21.150648Z",
     "shell.execute_reply": "2021-07-27T16:46:21.151190Z",
     "shell.execute_reply.started": "2021-07-27T16:45:40.663711Z"
    },
    "papermill": {
     "duration": 0.054706,
     "end_time": "2021-07-27T16:46:21.151431",
     "exception": false,
     "start_time": "2021-07-27T16:46:21.096725",
     "status": "completed"
    },
    "tags": []
   },
   "outputs": [],
   "source": [
    "# df6.fillna(method='bfill',inplace=True)\n",
    "# pp.ProfileReport(df6)"
   ]
  },
  {
   "cell_type": "code",
   "execution_count": 43,
   "id": "64892fc2",
   "metadata": {
    "execution": {
     "iopub.execute_input": "2021-07-27T16:46:21.250140Z",
     "iopub.status.busy": "2021-07-27T16:46:21.248996Z",
     "iopub.status.idle": "2021-07-27T16:46:21.465248Z",
     "shell.execute_reply": "2021-07-27T16:46:21.464609Z",
     "shell.execute_reply.started": "2021-07-27T16:45:40.675239Z"
    },
    "papermill": {
     "duration": 0.266949,
     "end_time": "2021-07-27T16:46:21.465408",
     "exception": false,
     "start_time": "2021-07-27T16:46:21.198459",
     "status": "completed"
    },
    "tags": []
   },
   "outputs": [],
   "source": [
    "dataset_path = '/kaggle/input/car-crashes-severity-prediction/'\n",
    "test_path = os.path.join(dataset_path, 'test.csv')\n",
    "xml_path = os.path.join(dataset_path, 'holidays.xml')\n",
    "df_test = data_prep(test_path,xml_path)"
   ]
  },
  {
   "cell_type": "code",
   "execution_count": 44,
   "id": "d793e603",
   "metadata": {
    "execution": {
     "iopub.execute_input": "2021-07-27T16:46:21.570620Z",
     "iopub.status.busy": "2021-07-27T16:46:21.569871Z",
     "iopub.status.idle": "2021-07-27T16:46:21.632068Z",
     "shell.execute_reply": "2021-07-27T16:46:21.631544Z",
     "shell.execute_reply.started": "2021-07-27T16:45:40.886107Z"
    },
    "papermill": {
     "duration": 0.120161,
     "end_time": "2021-07-27T16:46:21.632223",
     "exception": false,
     "start_time": "2021-07-27T16:46:21.512062",
     "status": "completed"
    },
    "tags": []
   },
   "outputs": [
    {
     "data": {
      "text/html": [
       "<div>\n",
       "<style scoped>\n",
       "    .dataframe tbody tr th:only-of-type {\n",
       "        vertical-align: middle;\n",
       "    }\n",
       "\n",
       "    .dataframe tbody tr th {\n",
       "        vertical-align: top;\n",
       "    }\n",
       "\n",
       "    .dataframe thead th {\n",
       "        text-align: right;\n",
       "    }\n",
       "</style>\n",
       "<table border=\"1\" class=\"dataframe\">\n",
       "  <thead>\n",
       "    <tr style=\"text-align: right;\">\n",
       "      <th></th>\n",
       "      <th>Lat</th>\n",
       "      <th>Lng</th>\n",
       "      <th>Distance(mi)</th>\n",
       "      <th>dateyear</th>\n",
       "      <th>datemonth</th>\n",
       "      <th>day_off</th>\n",
       "      <th>Temperature(F)</th>\n",
       "      <th>Wind_Speed(mph)</th>\n",
       "      <th>Visibility(mi)</th>\n",
       "      <th>Clear</th>\n",
       "      <th>Cloud</th>\n",
       "      <th>Rain</th>\n",
       "      <th>Fog</th>\n",
       "      <th>Severity</th>\n",
       "    </tr>\n",
       "  </thead>\n",
       "  <tbody>\n",
       "    <tr>\n",
       "      <th>0</th>\n",
       "      <td>37.786060</td>\n",
       "      <td>-122.390900</td>\n",
       "      <td>0.039</td>\n",
       "      <td>2016</td>\n",
       "      <td>4</td>\n",
       "      <td>0</td>\n",
       "      <td>63.0</td>\n",
       "      <td>10.4</td>\n",
       "      <td>10.0</td>\n",
       "      <td>False</td>\n",
       "      <td>True</td>\n",
       "      <td>False</td>\n",
       "      <td>False</td>\n",
       "      <td>2</td>\n",
       "    </tr>\n",
       "    <tr>\n",
       "      <th>1</th>\n",
       "      <td>37.769609</td>\n",
       "      <td>-122.415057</td>\n",
       "      <td>0.202</td>\n",
       "      <td>2020</td>\n",
       "      <td>10</td>\n",
       "      <td>0</td>\n",
       "      <td>65.0</td>\n",
       "      <td>5.0</td>\n",
       "      <td>9.0</td>\n",
       "      <td>True</td>\n",
       "      <td>False</td>\n",
       "      <td>False</td>\n",
       "      <td>False</td>\n",
       "      <td>2</td>\n",
       "    </tr>\n",
       "    <tr>\n",
       "      <th>2</th>\n",
       "      <td>37.807495</td>\n",
       "      <td>-122.476021</td>\n",
       "      <td>0.000</td>\n",
       "      <td>2019</td>\n",
       "      <td>9</td>\n",
       "      <td>0</td>\n",
       "      <td>58.0</td>\n",
       "      <td>18.0</td>\n",
       "      <td>10.0</td>\n",
       "      <td>False</td>\n",
       "      <td>True</td>\n",
       "      <td>False</td>\n",
       "      <td>False</td>\n",
       "      <td>2</td>\n",
       "    </tr>\n",
       "    <tr>\n",
       "      <th>3</th>\n",
       "      <td>37.761818</td>\n",
       "      <td>-122.405869</td>\n",
       "      <td>0.000</td>\n",
       "      <td>2019</td>\n",
       "      <td>8</td>\n",
       "      <td>0</td>\n",
       "      <td>72.0</td>\n",
       "      <td>17.0</td>\n",
       "      <td>10.0</td>\n",
       "      <td>True</td>\n",
       "      <td>False</td>\n",
       "      <td>False</td>\n",
       "      <td>False</td>\n",
       "      <td>2</td>\n",
       "    </tr>\n",
       "    <tr>\n",
       "      <th>4</th>\n",
       "      <td>37.732350</td>\n",
       "      <td>-122.414100</td>\n",
       "      <td>0.670</td>\n",
       "      <td>2018</td>\n",
       "      <td>10</td>\n",
       "      <td>0</td>\n",
       "      <td>57.0</td>\n",
       "      <td>5.8</td>\n",
       "      <td>10.0</td>\n",
       "      <td>False</td>\n",
       "      <td>True</td>\n",
       "      <td>False</td>\n",
       "      <td>False</td>\n",
       "      <td>2</td>\n",
       "    </tr>\n",
       "  </tbody>\n",
       "</table>\n",
       "</div>"
      ],
      "text/plain": [
       "         Lat         Lng  Distance(mi)  dateyear  datemonth  day_off  \\\n",
       "0  37.786060 -122.390900         0.039      2016          4        0   \n",
       "1  37.769609 -122.415057         0.202      2020         10        0   \n",
       "2  37.807495 -122.476021         0.000      2019          9        0   \n",
       "3  37.761818 -122.405869         0.000      2019          8        0   \n",
       "4  37.732350 -122.414100         0.670      2018         10        0   \n",
       "\n",
       "   Temperature(F)  Wind_Speed(mph)  Visibility(mi)  Clear  Cloud   Rain  \\\n",
       "0            63.0             10.4            10.0  False   True  False   \n",
       "1            65.0              5.0             9.0   True  False  False   \n",
       "2            58.0             18.0            10.0  False   True  False   \n",
       "3            72.0             17.0            10.0   True  False  False   \n",
       "4            57.0              5.8            10.0  False   True  False   \n",
       "\n",
       "     Fog  Severity  \n",
       "0  False         2  \n",
       "1  False         2  \n",
       "2  False         2  \n",
       "3  False         2  \n",
       "4  False         2  "
      ]
     },
     "execution_count": 44,
     "metadata": {},
     "output_type": "execute_result"
    }
   ],
   "source": [
    "X_test = df_test\n",
    "# You should update/remove the next line once you change the features used for training\n",
    "# X_test = X_test[['Lat', 'Lng', 'Distance(mi)']]\n",
    "\n",
    "y_test_predicted = classifier.predict(X_test)\n",
    "\n",
    "X_test['Severity'] = y_test_predicted\n",
    "\n",
    "X_test.head()"
   ]
  },
  {
   "cell_type": "code",
   "execution_count": 45,
   "id": "2eedd312",
   "metadata": {
    "execution": {
     "iopub.execute_input": "2021-07-27T16:46:21.732962Z",
     "iopub.status.busy": "2021-07-27T16:46:21.732152Z",
     "iopub.status.idle": "2021-07-27T16:46:21.759701Z",
     "shell.execute_reply": "2021-07-27T16:46:21.759084Z",
     "shell.execute_reply.started": "2021-07-27T16:45:40.953459Z"
    },
    "papermill": {
     "duration": 0.080025,
     "end_time": "2021-07-27T16:46:21.759876",
     "exception": false,
     "start_time": "2021-07-27T16:46:21.679851",
     "status": "completed"
    },
    "tags": []
   },
   "outputs": [
    {
     "name": "stdout",
     "output_type": "stream",
     "text": [
      "<class 'pandas.core.frame.DataFrame'>\n",
      "Int64Index: 1601 entries, 0 to 1600\n",
      "Data columns (total 15 columns):\n",
      " #   Column           Non-Null Count  Dtype  \n",
      "---  ------           --------------  -----  \n",
      " 0   Lat              1601 non-null   float64\n",
      " 1   Lng              1601 non-null   float64\n",
      " 2   Distance(mi)     1601 non-null   float64\n",
      " 3   dateyear         1601 non-null   int64  \n",
      " 4   datemonth        1601 non-null   int64  \n",
      " 5   day_off          1601 non-null   int64  \n",
      " 6   Temperature(F)   1601 non-null   float64\n",
      " 7   Wind_Speed(mph)  1601 non-null   float64\n",
      " 8   Visibility(mi)   1601 non-null   float64\n",
      " 9   Clear            1601 non-null   bool   \n",
      " 10  Cloud            1601 non-null   bool   \n",
      " 11  Rain             1601 non-null   bool   \n",
      " 12  Fog              1601 non-null   bool   \n",
      " 13  Severity         1601 non-null   int64  \n",
      " 14  ID               1601 non-null   int64  \n",
      "dtypes: bool(4), float64(6), int64(5)\n",
      "memory usage: 156.3 KB\n"
     ]
    }
   ],
   "source": [
    "X_test['ID'] = pd.read_csv(test_path)['ID']\n",
    "X_test.info()"
   ]
  },
  {
   "cell_type": "code",
   "execution_count": 46,
   "id": "3edf2c2f",
   "metadata": {
    "execution": {
     "iopub.execute_input": "2021-07-27T16:46:21.861375Z",
     "iopub.status.busy": "2021-07-27T16:46:21.860626Z",
     "iopub.status.idle": "2021-07-27T16:46:21.862851Z",
     "shell.execute_reply": "2021-07-27T16:46:21.863349Z",
     "shell.execute_reply.started": "2021-07-27T16:45:40.977806Z"
    },
    "papermill": {
     "duration": 0.055272,
     "end_time": "2021-07-27T16:46:21.863555",
     "exception": false,
     "start_time": "2021-07-27T16:46:21.808283",
     "status": "completed"
    },
    "tags": []
   },
   "outputs": [],
   "source": [
    "# X_test = test_df.drop(columns=['ID'])\n",
    "\n",
    "# You should update/remove the next line once you change the features used for training\n",
    "# X_test = X_test[['Lat', 'Lng', 'Distance(mi)']]\n",
    "\n",
    "# y_test_predicted = classifier.predict(X_test)\n",
    "\n",
    "# test_df['Severity'] = y_test_predicted\n",
    "\n",
    "# test_df.head()"
   ]
  },
  {
   "cell_type": "code",
   "execution_count": 47,
   "id": "0552aa4c",
   "metadata": {
    "execution": {
     "iopub.execute_input": "2021-07-27T16:46:21.963041Z",
     "iopub.status.busy": "2021-07-27T16:46:21.962359Z",
     "iopub.status.idle": "2021-07-27T16:46:21.976482Z",
     "shell.execute_reply": "2021-07-27T16:46:21.975308Z",
     "shell.execute_reply.started": "2021-07-27T16:45:40.983121Z"
    },
    "papermill": {
     "duration": 0.065787,
     "end_time": "2021-07-27T16:46:21.976652",
     "exception": false,
     "start_time": "2021-07-27T16:46:21.910865",
     "status": "completed"
    },
    "tags": []
   },
   "outputs": [],
   "source": [
    "X_test[['ID', 'Severity']].to_csv('submission.csv', index=False)"
   ]
  }
 ],
 "metadata": {
  "kernelspec": {
   "display_name": "Python 3",
   "language": "python",
   "name": "python3"
  },
  "language_info": {
   "codemirror_mode": {
    "name": "ipython",
    "version": 3
   },
   "file_extension": ".py",
   "mimetype": "text/x-python",
   "name": "python",
   "nbconvert_exporter": "python",
   "pygments_lexer": "ipython3",
   "version": "3.7.10"
  },
  "papermill": {
   "default_parameters": {},
   "duration": 22.036065,
   "end_time": "2021-07-27T16:46:23.680905",
   "environment_variables": {},
   "exception": null,
   "input_path": "__notebook__.ipynb",
   "output_path": "__notebook__.ipynb",
   "parameters": {},
   "start_time": "2021-07-27T16:46:01.644840",
   "version": "2.3.3"
  }
 },
 "nbformat": 4,
 "nbformat_minor": 5
}
